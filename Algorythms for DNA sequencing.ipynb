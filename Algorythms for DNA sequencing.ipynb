{
 "cells": [
  {
   "cell_type": "code",
   "execution_count": 1,
   "id": "916924a2",
   "metadata": {},
   "outputs": [],
   "source": [
    "def readGenome(filename):\n",
    "    '''a function that parses a DNA reference genome from a file in the FASTA format.'''\n",
    "    genome = ''\n",
    "    with open(filename, 'r') as f:\n",
    "        for line in f:\n",
    "            # ignore header line with genome information\n",
    "            if not line[0] == '>':\n",
    "                genome += line.rstrip()\n",
    "    return genome"
   ]
  },
  {
   "cell_type": "code",
   "execution_count": 7,
   "id": "b9c6bb10",
   "metadata": {},
   "outputs": [],
   "source": [
    "def naive (pattern, text):\n",
    "    \"\"\"Naive exact matching algorythm\"\"\"\n",
    "    occurencies = []\n",
    "    for i in range(len(text) - len(pattern) + 1):\n",
    "        match = True\n",
    "        for j in range(len(pattern)):\n",
    "            if not text[i+j] == pattern[j]:\n",
    "                match = False\n",
    "                break\n",
    "        if match:\n",
    "            occurencies.append(i)\n",
    "    return occurencies\n"
   ]
  },
  {
   "cell_type": "code",
   "execution_count": 9,
   "id": "24081c9d",
   "metadata": {},
   "outputs": [],
   "source": [
    "import random\n",
    "def generateReads (genome, numReads, readLen):\n",
    "    '''Generate reads from random positions in the given genome.'''\n",
    "    reads = []\n",
    "    for _ in range(numReads):\n",
    "        start = random.randint(0, len(genome)-readLen) - 1\n",
    "        reads.append(genome[start:start+readLen])\n",
    "    return reads"
   ]
  },
  {
   "cell_type": "code",
   "execution_count": null,
   "id": "c569d745",
   "metadata": {},
   "outputs": [],
   "source": [
    "#a block which counts exact matches of randomly artificially generated reads to reference genome\n",
    "\n",
    "reads = generateReads(genome, 100, 100)\n",
    "\n",
    "numMatched = 0\n",
    "for r in reads:\n",
    "    matches = naive(r, genome)\n",
    "    if len(matches) > 0:\n",
    "        numMatched += 1\n",
    "print('%d / %d reads matched exactly!' % (numMatched, len(reads)))       \n"
   ]
  },
  {
   "cell_type": "code",
   "execution_count": null,
   "id": "6579c0f1",
   "metadata": {},
   "outputs": [],
   "source": [
    "#a block which counts exact matches of reads to reference genome\n",
    "\n",
    "numMatched = 0\n",
    "n = 0\n",
    "for r in phix_reads:\n",
    "    #r = r[:30]  #if we want to match only first 30 nucleatides of the read\n",
    "    matches = naive(r, genome)\n",
    "    matches.extend(naive(reversecomplement(r), genome)) #match also reverse complement of the reads\n",
    "    n += 1\n",
    "    if len(matches) > 0:\n",
    "        numMatched += 1\n",
    "print('%d / %d reads matched the genome' %(numMatched, n))"
   ]
  },
  {
   "cell_type": "code",
   "execution_count": null,
   "id": "9bbfa125",
   "metadata": {},
   "outputs": [],
   "source": [
    "def reverseComplement(s):\n",
    "    '''a function that takes a DNA string and returns its reverse complement'''\n",
    "    complement = {'A':'T', 'G':'C', 'C':'G', 'T':'A', 'N':'N'}\n",
    "    t = ''\n",
    "    for base in s:\n",
    "        t = complement[base] + t\n",
    "    return t"
   ]
  },
  {
   "cell_type": "code",
   "execution_count": null,
   "id": "1aa0ac1c",
   "metadata": {},
   "outputs": [],
   "source": [
    "def readFastq(filename):\n",
    "    '''a function that parses the read and quality strings from a FASTQ file containing sequencing reads'''\n",
    "    sequences = []\n",
    "    qualities = []\n",
    "    with open(filename) as fh:\n",
    "        while True:\n",
    "            fh.readline()  # skip name line\n",
    "            seq = fh.readline().rstrip()  # read base sequence\n",
    "            fh.readline()  # skip placeholder line\n",
    "            qual = fh.readline().rstrip() # base quality line\n",
    "            if len(seq) == 0:\n",
    "                break\n",
    "            sequences.append(seq)\n",
    "            qualities.append(qual)\n",
    "    return sequences, qualities"
   ]
  },
  {
   "cell_type": "markdown",
   "id": "8cb7bada",
   "metadata": {},
   "source": []
  },
  {
   "cell_type": "code",
   "execution_count": null,
   "id": "6be86110",
   "metadata": {},
   "outputs": [],
   "source": [
    "def reverseComplement(s):\n",
    "    '''a function that takes a DNA string and returns its reverse complement'''\n",
    "    complement = {'A':'T', 'G':'C', 'C':'G', 'T':'A', 'N':'N'}\n",
    "    t = ''\n",
    "    for base in s:\n",
    "        t = complement[base] + t\n",
    "    return t\n",
    "\n",
    "#naive exact matching algorithm that is strand-aware\n",
    "\n",
    "def naive_with_rc (pattern, text):\n",
    "    \"\"\"Naive exact matching algorythm\"\"\"\n",
    "    occurencies = []\n",
    "    for i in range(len(text) - len(pattern) + 1):\n",
    "        match = True\n",
    "        for j in range(len(pattern)):\n",
    "            if not text[i+j] == pattern[j]:\n",
    "                match = False\n",
    "                break\n",
    "        if match:\n",
    "            occurencies.append(i)\n",
    "    if not pattern == reverseComplement(pattern):\n",
    "        for m in range(len(text) - len(pattern) + 1):\n",
    "            match = True\n",
    "            for j in range(len(pattern)):\n",
    "                if not text[i+j] == reverseComlement(pattern[j]):\n",
    "                    match = False\n",
    "                    break\n",
    "            if match:\n",
    "                occurencies.append(i)\n",
    "    return occurencies\n",
    "\n",
    "#read reference Genome\n",
    "\n",
    "\n",
    "\n",
    "def readGenome(filename):\n",
    "    '''a function that parses a DNA reference genome from a file in the FASTA format.'''\n",
    "    genome = ''\n",
    "    with open(filename, 'r') as f:\n",
    "        for line in f:\n",
    "            # ignore header line with genome information\n",
    "            if not line[0] == '>':\n",
    "                genome += line.rstrip()\n",
    "    return genome\n",
    "\n"
   ]
  }
 ],
 "metadata": {
  "kernelspec": {
   "display_name": "Python 3 (ipykernel)",
   "language": "python",
   "name": "python3"
  },
  "language_info": {
   "codemirror_mode": {
    "name": "ipython",
    "version": 3
   },
   "file_extension": ".py",
   "mimetype": "text/x-python",
   "name": "python",
   "nbconvert_exporter": "python",
   "pygments_lexer": "ipython3",
   "version": "3.9.12"
  }
 },
 "nbformat": 4,
 "nbformat_minor": 5
}
