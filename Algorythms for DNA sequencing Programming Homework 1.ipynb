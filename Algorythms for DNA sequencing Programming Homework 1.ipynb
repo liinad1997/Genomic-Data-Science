{
 "cells": [
  {
   "cell_type": "markdown",
   "id": "5a1e5243",
   "metadata": {},
   "source": [
    "#### Algorythms for DNA sequencing | Week 1 | Programming Homework 1\n",
    "First, implement a version of the naive exact matching algorithm that is strand-aware. That is, instead of looking only for occurrences of P in T, additionally look for occurrences of thereverse complement of P in T. If P is ACT, your function should find occurrences of both ACTand its reverse complement AGT in T.\n",
    "\n",
    "If P and its reverse complement are identical (e.g. AACGTT), then a given match offset should be reported only once. So if your new function is called naive_with_rc, then the old naivefunction and your new naive_with_rc function should return the same results when P equals its reverse complement.\n",
    "\n",
    "Next, download and parse the lambda virus genome, at: https://d28rh4a8wq0iu5.cloudfront.net/ads1/data/lambda_virus.fa"
   ]
  },
  {
   "cell_type": "code",
   "execution_count": 1,
   "id": "95c0d64a",
   "metadata": {},
   "outputs": [],
   "source": [
    "def reverseComplement(s):\n",
    "    '''a function that takes a DNA string and returns its reverse complement'''\n",
    "    complement = {'A':'T', 'G':'C', 'C':'G', 'T':'A', 'N':'N'}\n",
    "    t = ''\n",
    "    for base in s:\n",
    "        t = complement[base] + t\n",
    "    return t"
   ]
  },
  {
   "cell_type": "code",
   "execution_count": 121,
   "id": "62434236",
   "metadata": {},
   "outputs": [],
   "source": [
    "#naive exact matching algorithm that is strand-aware\n",
    "\n",
    "def naive_with_rc (pattern, text):\n",
    "    \"\"\"Naive exact matching algorythm\"\"\"\n",
    "    occurencies = []\n",
    "    for i in range(len(text) - len(pattern) + 1):\n",
    "        match = True\n",
    "        for j in range(len(pattern)):\n",
    "            if not text[i+j] == pattern[j]:\n",
    "                match = False\n",
    "                break\n",
    "        if match:\n",
    "            occurencies.append(i)\n",
    "    if not pattern == reverseComplement(pattern):\n",
    "        for m in range(len(text) - len(pattern) + 1):\n",
    "            match_rc = True\n",
    "            for l in range(len(pattern)):\n",
    "                if not text[m+l] == reverseComplement(pattern)[l]:\n",
    "                    match_rc = False\n",
    "                    break\n",
    "            if match_rc:\n",
    "                occurencies.append(m)\n",
    "    return occurencies\n"
   ]
  },
  {
   "cell_type": "code",
   "execution_count": 111,
   "id": "64c0d7d7",
   "metadata": {
    "scrolled": true
   },
   "outputs": [
    {
     "name": "stderr",
     "output_type": "stream",
     "text": [
      "--2022-10-14 13:24:54--  https://d28rh4a8wq0iu5.cloudfront.net/ads1/data/lambda_virus.fa\n",
      "Resolving d28rh4a8wq0iu5.cloudfront.net (d28rh4a8wq0iu5.cloudfront.net)... 18.165.121.137, 18.165.121.184, 18.165.121.63, ...\n",
      "Connecting to d28rh4a8wq0iu5.cloudfront.net (d28rh4a8wq0iu5.cloudfront.net)|18.165.121.137|:443... connected.\n",
      "HTTP request sent, awaiting response... 200 OK\n",
      "Length: 49270 (48K) [application/octet-stream]\n",
      "Saving to: 'lambda_virus.fa.1'\n",
      "\n",
      "     0K .......... .......... .......... .......... ........  100%  608K=0.08s\n",
      "\n",
      "2022-10-14 13:24:55 (608 KB/s) - 'lambda_virus.fa.1' saved [49270/49270]\n",
      "\n"
     ]
    }
   ],
   "source": [
    "!wget https://d28rh4a8wq0iu5.cloudfront.net/ads1/data/lambda_virus.fa"
   ]
  },
  {
   "cell_type": "code",
   "execution_count": 112,
   "id": "4d834a26",
   "metadata": {},
   "outputs": [],
   "source": [
    "#read reference Genome\n",
    "\n",
    "def readGenome(filename):\n",
    "    '''a function that parses a DNA reference genome from a file in the FASTA format.'''\n",
    "    genome = ''\n",
    "    with open(filename, 'r') as f:\n",
    "        for line in f:\n",
    "            # ignore header line with genome information\n",
    "            if not line[0] == '>':\n",
    "                genome += line.rstrip()\n",
    "    return genome\n",
    "\n",
    "genome = readGenome('lambda_virus.fa')"
   ]
  },
  {
   "cell_type": "markdown",
   "id": "60c0477e",
   "metadata": {},
   "source": [
    "How many times does 'AGGT' or its reverse complement 'ACCT' occur in the lambda virus genome?  E.g. if 'AGGT' occurs 10 times and 'ACCT' occurs 12 times, you should report 22."
   ]
  },
  {
   "cell_type": "code",
   "execution_count": 122,
   "id": "9000cff8",
   "metadata": {},
   "outputs": [
    {
     "data": {
      "text/plain": [
       "306"
      ]
     },
     "execution_count": 122,
     "metadata": {},
     "output_type": "execute_result"
    }
   ],
   "source": [
    "occurencies = naive_with_rc('AGGT', genome)\n",
    "len(occurencies)"
   ]
  },
  {
   "cell_type": "code",
   "execution_count": 115,
   "id": "f0653cb8",
   "metadata": {},
   "outputs": [
    {
     "data": {
      "text/plain": [
       "48502"
      ]
     },
     "execution_count": 115,
     "metadata": {},
     "output_type": "execute_result"
    }
   ],
   "source": [
    "len(genome)"
   ]
  },
  {
   "cell_type": "code",
   "execution_count": 123,
   "id": "23bb2122",
   "metadata": {},
   "outputs": [
    {
     "data": {
      "text/plain": [
       "195"
      ]
     },
     "execution_count": 123,
     "metadata": {},
     "output_type": "execute_result"
    }
   ],
   "source": [
    "occurencies = naive_with_rc('TTAA', genome)\n",
    "len(occurencies)"
   ]
  },
  {
   "cell_type": "code",
   "execution_count": 126,
   "id": "e688573e",
   "metadata": {},
   "outputs": [
    {
     "name": "stdout",
     "output_type": "stream",
     "text": [
      "26028\n"
     ]
    }
   ],
   "source": [
    "occurencies = naive_with_rc('ACTAAGT', genome)\n",
    "print(min(occurencies))"
   ]
  },
  {
   "cell_type": "code",
   "execution_count": 127,
   "id": "cd7fbe2b",
   "metadata": {},
   "outputs": [
    {
     "data": {
      "text/plain": [
       "[27733, 45382, 26028]"
      ]
     },
     "execution_count": 127,
     "metadata": {},
     "output_type": "execute_result"
    }
   ],
   "source": [
    "occurencies"
   ]
  },
  {
   "cell_type": "code",
   "execution_count": 128,
   "id": "59cf4858",
   "metadata": {},
   "outputs": [
    {
     "name": "stdout",
     "output_type": "stream",
     "text": [
      "450\n"
     ]
    }
   ],
   "source": [
    "occurencies = naive_with_rc('AGTCGA', genome)\n",
    "print(min(occurencies))"
   ]
  },
  {
   "cell_type": "code",
   "execution_count": 129,
   "id": "4e0b155c",
   "metadata": {},
   "outputs": [],
   "source": [
    "#naive exact matching algorithm that allows two mismatches\n",
    "\n",
    "def naive_2mm (pattern, text):\n",
    "    \"\"\"Naive exact matching algorythm\"\"\"\n",
    "    occurencies = []\n",
    "    for i in range(len(text) - len(pattern) + 1):\n",
    "        match = True\n",
    "        mm = 0\n",
    "        for j in range(len(pattern)):\n",
    "            if not text[i+j] == pattern[j]:\n",
    "                mm += 1\n",
    "                if mm > 2:\n",
    "                    match = False\n",
    "                    break\n",
    "        if match:\n",
    "            occurencies.append(i)\n",
    "    return occurencies\n"
   ]
  },
  {
   "cell_type": "code",
   "execution_count": 130,
   "id": "8bcb2c35",
   "metadata": {},
   "outputs": [
    {
     "name": "stdout",
     "output_type": "stream",
     "text": [
      "191\n"
     ]
    }
   ],
   "source": [
    "occurrences = naive_2mm('TTCAAGCC', genome)\n",
    "print(len(occurrences))"
   ]
  },
  {
   "cell_type": "code",
   "execution_count": 131,
   "id": "b8347066",
   "metadata": {},
   "outputs": [
    {
     "name": "stdout",
     "output_type": "stream",
     "text": [
      "49\n"
     ]
    }
   ],
   "source": [
    "\n",
    "occurrences = naive_2mm('AGGAGGTT', genome)\n",
    "print(min(occurrences))"
   ]
  },
  {
   "cell_type": "code",
   "execution_count": 42,
   "id": "97cf63ae",
   "metadata": {},
   "outputs": [
    {
     "name": "stderr",
     "output_type": "stream",
     "text": [
      "--2022-10-14 01:29:20--  https://d28rh4a8wq0iu5.cloudfront.net/ads1/data/ERR037900_1.first1000.fastq\n",
      "Resolving d28rh4a8wq0iu5.cloudfront.net (d28rh4a8wq0iu5.cloudfront.net)... 18.165.121.63, 18.165.121.54, 18.165.121.184, ...\n",
      "Connecting to d28rh4a8wq0iu5.cloudfront.net (d28rh4a8wq0iu5.cloudfront.net)|18.165.121.63|:443... connected.\n",
      "HTTP request sent, awaiting response... 200 OK\n",
      "Length: 241626 (236K) [application/octet-stream]\n",
      "Saving to: 'ERR037900_1.first1000.fastq'\n",
      "\n",
      "     0K .......... .......... .......... .......... .......... 21%  290K 1s\n",
      "    50K .......... .......... .......... .......... .......... 42% 3.13M 0s\n",
      "   100K .......... .......... .......... .......... .......... 63%  759K 0s\n",
      "   150K .......... .......... .......... .......... .......... 84% 3.50M 0s\n",
      "   200K .......... .......... .......... .....                100% 7.13M=0.3s\n",
      "\n",
      "2022-10-14 01:29:22 (865 KB/s) - 'ERR037900_1.first1000.fastq' saved [241626/241626]\n",
      "\n"
     ]
    }
   ],
   "source": [
    "!wget https://d28rh4a8wq0iu5.cloudfront.net/ads1/data/ERR037900_1.first1000.fastq"
   ]
  },
  {
   "cell_type": "code",
   "execution_count": 44,
   "id": "d7831c1c",
   "metadata": {},
   "outputs": [],
   "source": [
    "def readFastq(filename):\n",
    "    '''a function that parses the read and quality strings from a FASTQ file containing sequencing reads'''\n",
    "    sequences = []\n",
    "    qualities = []\n",
    "    with open(filename) as fh:\n",
    "        while True:\n",
    "            fh.readline()  # skip name line\n",
    "            seq = fh.readline().rstrip()  # read base sequence\n",
    "            fh.readline()  # skip placeholder line\n",
    "            qual = fh.readline().rstrip() # base quality line\n",
    "            if len(seq) == 0:\n",
    "                break\n",
    "            sequences.append(seq)\n",
    "            qualities.append(qual)\n",
    "    return sequences, qualities"
   ]
  },
  {
   "cell_type": "code",
   "execution_count": 53,
   "id": "7b58e065",
   "metadata": {},
   "outputs": [],
   "source": [
    "seqs, quals = readFastq('ERR037900_1.first1000.fastq')\n"
   ]
  },
  {
   "cell_type": "code",
   "execution_count": 66,
   "id": "508f0c0d",
   "metadata": {},
   "outputs": [],
   "source": [
    "import re\n",
    "read_no = 1\n",
    "N_dict = {}\n",
    "for i in reads:\n",
    "    for p in i:\n",
    "        N_dict[read_no] = [m.start() for m in re.finditer('N', p)]\n",
    "        read_no += 1"
   ]
  },
  {
   "cell_type": "code",
   "execution_count": 75,
   "id": "e9ad788d",
   "metadata": {},
   "outputs": [],
   "source": [
    "import pandas as pd"
   ]
  },
  {
   "cell_type": "code",
   "execution_count": 77,
   "id": "1daa6aef",
   "metadata": {},
   "outputs": [],
   "source": [
    "import numpy as np"
   ]
  },
  {
   "cell_type": "code",
   "execution_count": 93,
   "id": "880d984c",
   "metadata": {},
   "outputs": [
    {
     "name": "stderr",
     "output_type": "stream",
     "text": [
      "C:\\Users\\danii\\AppData\\Local\\Temp\\ipykernel_18300\\4013479592.py:1: FutureWarning: The default dtype for empty Series will be 'object' instead of 'float64' in a future version. Specify a dtype explicitly to silence this warning.\n",
      "  df = pd.DataFrame(dict([ (k,pd.Series(v)) for k,v in N_dict.items() ]))\n"
     ]
    }
   ],
   "source": [
    "  \n",
    "df = pd.DataFrame(dict([ (k,pd.Series(v)) for k,v in N_dict.items() ]))"
   ]
  },
  {
   "cell_type": "code",
   "execution_count": 103,
   "id": "0801d026",
   "metadata": {},
   "outputs": [],
   "source": [
    "a = df.T\n",
    "b = a.groupby(1).count()"
   ]
  },
  {
   "cell_type": "code",
   "execution_count": 104,
   "id": "e2a0096b",
   "metadata": {},
   "outputs": [
    {
     "data": {
      "text/html": [
       "<div>\n",
       "<style scoped>\n",
       "    .dataframe tbody tr th:only-of-type {\n",
       "        vertical-align: middle;\n",
       "    }\n",
       "\n",
       "    .dataframe tbody tr th {\n",
       "        vertical-align: top;\n",
       "    }\n",
       "\n",
       "    .dataframe thead th {\n",
       "        text-align: right;\n",
       "    }\n",
       "</style>\n",
       "<table border=\"1\" class=\"dataframe\">\n",
       "  <thead>\n",
       "    <tr style=\"text-align: right;\">\n",
       "      <th></th>\n",
       "      <th>0</th>\n",
       "      <th>2</th>\n",
       "      <th>3</th>\n",
       "    </tr>\n",
       "    <tr>\n",
       "      <th>1</th>\n",
       "      <th></th>\n",
       "      <th></th>\n",
       "      <th></th>\n",
       "    </tr>\n",
       "  </thead>\n",
       "  <tbody>\n",
       "    <tr>\n",
       "      <th>66.0</th>\n",
       "      <td>7</td>\n",
       "      <td>0</td>\n",
       "      <td>0</td>\n",
       "    </tr>\n",
       "    <tr>\n",
       "      <th>67.0</th>\n",
       "      <td>1</td>\n",
       "      <td>1</td>\n",
       "      <td>1</td>\n",
       "    </tr>\n",
       "    <tr>\n",
       "      <th>91.0</th>\n",
       "      <td>1</td>\n",
       "      <td>0</td>\n",
       "      <td>0</td>\n",
       "    </tr>\n",
       "  </tbody>\n",
       "</table>\n",
       "</div>"
      ],
      "text/plain": [
       "      0  2  3\n",
       "1            \n",
       "66.0  7  0  0\n",
       "67.0  1  1  1\n",
       "91.0  1  0  0"
      ]
     },
     "execution_count": 104,
     "metadata": {},
     "output_type": "execute_result"
    }
   ],
   "source": [
    "b"
   ]
  },
  {
   "cell_type": "code",
   "execution_count": 106,
   "id": "73c02ed8",
   "metadata": {},
   "outputs": [
    {
     "name": "stdout",
     "output_type": "stream",
     "text": [
      "iteration 1, primers used 2\n",
      "iteration 2, primers used 6\n",
      "iteration 3, primers used 14\n",
      "iteration 4, primers used 30\n",
      "iteration 5, primers used 62\n",
      "iteration 6, primers used 126\n",
      "iteration 7, primers used 254\n",
      "iteration 8, primers used 510\n",
      "iteration 9, primers used 1022\n",
      "iteration 10, primers used 2046\n",
      "iteration 11, primers used 4094\n",
      "iteration 12, primers used 8190\n",
      "iteration 13, primers used 16382\n",
      "iteration 14, primers used 32766\n",
      "iteration 15, primers used 65534\n",
      "iteration 16, primers used 131070\n"
     ]
    }
   ],
   "source": []
  }
 ],
 "metadata": {
  "kernelspec": {
   "display_name": "Python 3 (ipykernel)",
   "language": "python",
   "name": "python3"
  },
  "language_info": {
   "codemirror_mode": {
    "name": "ipython",
    "version": 3
   },
   "file_extension": ".py",
   "mimetype": "text/x-python",
   "name": "python",
   "nbconvert_exporter": "python",
   "pygments_lexer": "ipython3",
   "version": "3.9.12"
  }
 },
 "nbformat": 4,
 "nbformat_minor": 5
}
